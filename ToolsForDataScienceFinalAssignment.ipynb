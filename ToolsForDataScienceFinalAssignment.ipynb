{
 "cells": [
  {
   "cell_type": "markdown",
   "id": "d5f104c5",
   "metadata": {},
   "source": [
    "# Data Science Tools and Ecosystem"
   ]
  },
  {
   "cell_type": "markdown",
   "id": "f03981ac",
   "metadata": {},
   "source": [
    "## Introduction\n",
    "\n",
    "This notebook is a demonstration of markdown and code cells created in Jupyter with a Python 3 kernel. It was created for a final assignment in the *IBM Tools for Data Science* course on Coursera."
   ]
  },
  {
   "cell_type": "markdown",
   "id": "ef1ca3bd",
   "metadata": {},
   "source": [
    "### Data Science Languages\n",
    "\n",
    "Some of the popular languages that Data Scientists use are:\n",
    "1. Python\n",
    "2. R\n",
    "3. Scala\n",
    "4. Java\n",
    "5. C++\n",
    "6. Julia"
   ]
  },
  {
   "cell_type": "markdown",
   "id": "bdc3d9bc",
   "metadata": {},
   "source": [
    "### Data Science Packages in Python\n",
    "\n",
    "Some of the commonly used libraries used by Data Scientists include:\n",
    "1. numpy\n",
    "2. pandas\n",
    "3. scipy\n",
    "4. keras\n",
    "5. matplotlib\n",
    "6. plotly\n",
    "\n"
   ]
  },
  {
   "cell_type": "markdown",
   "id": "b1956acd",
   "metadata": {},
   "source": [
    "## A Table of Data Science Tools\n",
    "\n",
    "Data Science Tools |\n",
    "--- |\n",
    "Jupyter \n",
    "Spyder\n",
    "R Studio \n",
    "\n",
    "\n"
   ]
  },
  {
   "cell_type": "markdown",
   "id": "def69522",
   "metadata": {},
   "source": [
    "### Below are a few examples of evaluating arithmetic expressions in Python.\n",
    "\n",
    "- a + b  :  Addition\n",
    "- a - b  : subtraction\n",
    "- a * b  : multiplication\n",
    "- a / b  : division\n",
    "- a % b  : modulo division\n",
    "- a^b : exponents\n",
    "- (a + b) * c : ordered operation with parantheses  "
   ]
  },
  {
   "cell_type": "code",
   "execution_count": 44,
   "id": "3c6f08c1",
   "metadata": {},
   "outputs": [
    {
     "data": {
      "text/plain": [
       "17"
      ]
     },
     "execution_count": 44,
     "metadata": {},
     "output_type": "execute_result"
    }
   ],
   "source": [
    "# Multiply and add integers - This is Exercise 8\n",
    "(3*4) + 5"
   ]
  },
  {
   "cell_type": "code",
   "execution_count": 47,
   "id": "312a1caf",
   "metadata": {},
   "outputs": [
    {
     "data": {
      "text/plain": [
       "3.3333333333333335"
      ]
     },
     "execution_count": 47,
     "metadata": {},
     "output_type": "execute_result"
    }
   ],
   "source": [
    "# This will convert 200 minutes to hours by diving by 60\n",
    "200/60"
   ]
  },
  {
   "cell_type": "markdown",
   "id": "1afc3eb2",
   "metadata": {},
   "source": [
    "**Objectives**\n",
    "- show a title in markdown\n",
    "- show an intro in markdown\n",
    "- list some data science packages\n",
    "- list some data science tools\n",
    "- show some arithmetic operations in python as markdown\n",
    "- compute some arithmetic operations\n",
    "- convert minutes to hours\n",
    "- list some objectives\n",
    "- display the Author's name\n",
    "- share the notebook on github\n",
    "- screengrab the notebook\n",
    "- post it all on github."
   ]
  },
  {
   "cell_type": "markdown",
   "id": "5b18df61",
   "metadata": {},
   "source": [
    "## Author\n",
    "T Hagedorn\n"
   ]
  }
 ],
 "metadata": {
  "kernelspec": {
   "display_name": "Python 3 (ipykernel)",
   "language": "python",
   "name": "python3"
  },
  "language_info": {
   "codemirror_mode": {
    "name": "ipython",
    "version": 3
   },
   "file_extension": ".py",
   "mimetype": "text/x-python",
   "name": "python",
   "nbconvert_exporter": "python",
   "pygments_lexer": "ipython3",
   "version": "3.9.9"
  }
 },
 "nbformat": 4,
 "nbformat_minor": 5
}
